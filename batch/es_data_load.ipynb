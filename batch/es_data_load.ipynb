{
 "metadata": {
  "language_info": {
   "codemirror_mode": {
    "name": "ipython",
    "version": 3
   },
   "file_extension": ".py",
   "mimetype": "text/x-python",
   "name": "python",
   "nbconvert_exporter": "python",
   "pygments_lexer": "ipython3",
   "version": "3.8.2-final"
  },
  "orig_nbformat": 2,
  "kernelspec": {
   "name": "python37364bit0019858a326d40c48be8e364a74179ea",
   "display_name": "Python 3.7.3 64-bit"
  }
 },
 "nbformat": 4,
 "nbformat_minor": 2,
 "cells": [
  {
   "cell_type": "code",
   "execution_count": 2,
   "metadata": {},
   "outputs": [],
   "source": [
    "import requests, json, os\n",
    "from elasticsearch import Elasticsearch"
   ]
  },
  {
   "cell_type": "code",
   "execution_count": 2,
   "metadata": {},
   "outputs": [],
   "source": [
    "directory = '/Users/rahulsharma/Downloads/recipes_raw'"
   ]
  },
  {
   "cell_type": "code",
   "execution_count": 2,
   "metadata": {},
   "outputs": [
    {
     "output_type": "stream",
     "name": "stdout",
     "text": [
      "b'{\\n  \"name\" : \"IMUL-ML0248\",\\n  \"cluster_name\" : \"elasticsearch\",\\n  \"cluster_uuid\" : \"gEpO4pEAS3uSxByjAcuSLQ\",\\n  \"version\" : {\\n    \"number\" : \"7.9.3\",\\n    \"build_flavor\" : \"default\",\\n    \"build_type\" : \"tar\",\\n    \"build_hash\" : \"c4138e51121ef06a6404866cddc601906fe5c868\",\\n    \"build_date\" : \"2020-10-16T10:36:16.141335Z\",\\n    \"build_snapshot\" : false,\\n    \"lucene_version\" : \"8.6.2\",\\n    \"minimum_wire_compatibility_version\" : \"6.8.0\",\\n    \"minimum_index_compatibility_version\" : \"6.0.0-beta1\"\\n  },\\n  \"tagline\" : \"You Know, for Search\"\\n}\\n'\n"
     ]
    }
   ],
   "source": [
    "#make sure ES is running\n",
    "res = requests.get('http://localhost:9200')\n",
    "print (res.content)"
   ]
  },
  {
   "cell_type": "code",
   "execution_count": 3,
   "metadata": {},
   "outputs": [],
   "source": [
    "es = Elasticsearch([{'host': 'localhost', 'port': '9200'}])"
   ]
  },
  {
   "cell_type": "code",
   "execution_count": 15,
   "metadata": {},
   "outputs": [
    {
     "output_type": "stream",
     "name": "stdout",
     "text": [
      "Connect to ES status. {'name': 'IMUL-ML0248', 'cluster_name': 'elasticsearch', 'cluster_uuid': 'gEpO4pEAS3uSxByjAcuSLQ', 'version': {'number': '7.9.3', 'build_flavor': 'default', 'build_type': 'tar', 'build_hash': 'c4138e51121ef06a6404866cddc601906fe5c868', 'build_date': '2020-10-16T10:36:16.141335Z', 'build_snapshot': False, 'lucene_version': '8.6.2', 'minimum_wire_compatibility_version': '6.8.0', 'minimum_index_compatibility_version': '6.0.0-beta1'}, 'tagline': 'You Know, for Search'}\n"
     ]
    }
   ],
   "source": [
    "try:\n",
    "    print(\"Connect to ES status.\",es.info())\n",
    "except ConnectionError:\n",
    "    print(\"Failed to connect elastic search\")\n",
    "    raise"
   ]
  },
  {
   "cell_type": "code",
   "execution_count": 4,
   "metadata": {},
   "outputs": [],
   "source": [
    "import json\n",
    "f = open('/Users/rahulsharma/Downloads/recipes_raw/recipes_raw_nosource_epi.json')\n",
    "data = json.load(f)"
   ]
  },
  {
   "cell_type": "code",
   "execution_count": null,
   "metadata": {},
   "outputs": [],
   "source": [
    "for key in data.keys():\n",
    "    row=data.get(key)\n",
    "    key=key.replace(\".\", \"\")\n",
    "    res=es.index(index='recipes_idx',id=key,body=row)"
   ]
  },
  {
   "cell_type": "code",
   "execution_count": 27,
   "metadata": {},
   "outputs": [],
   "source": [
    "ES_SERVER='localhost'\n",
    "ES_PORT=9200\n",
    "ES_INDEX='recipes_idx8'\n",
    "INDEX_CONFIG='../es-setup/recipes_idx_config.json'"
   ]
  },
  {
   "cell_type": "code",
   "execution_count": 28,
   "metadata": {},
   "outputs": [
    {
     "output_type": "stream",
     "name": "stdout",
     "text": [
      "Create Index Status: {'acknowledged': True, 'shards_acknowledged': True, 'index': 'recipes_idx8'}\n"
     ]
    }
   ],
   "source": [
    "if not es.indices.exists(index=ES_INDEX):\n",
    "    with open(INDEX_CONFIG) as put: #'index-put.json' is the index configuration file\n",
    "        import json\n",
    "        data=json.load(put)\n",
    "        print(\"Create Index Status:\",es.indices.create(index=ES_INDEX,body=data))\n",
    "        \n",
    "else:\n",
    "    print(\"Index already exists starting ingestion\")"
   ]
  },
  {
   "cell_type": "code",
   "execution_count": null,
   "metadata": {},
   "outputs": [],
   "source": []
  }
 ]
}